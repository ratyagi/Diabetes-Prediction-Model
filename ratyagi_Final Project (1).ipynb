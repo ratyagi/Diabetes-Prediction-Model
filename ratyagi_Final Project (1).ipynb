{
 "cells": [
  {
   "cell_type": "markdown",
   "metadata": {},
   "source": [
    "# <u> Diabetes Prediction Model </u>\n",
    " \n",
    " this model will predict whether the person will get diabetes or not based on the certain aspects like BMI, Pregnancies, Blood Pressure, etc. this project is made using concepts of machine learning and data science. \n",
    " the dataset used in this model has been collected by “National Institute of Diabetes and Digestive and Kidney Diseases” and was downloaded from kaggle under the topic prima indian diabetes database. this data belongs to females above the age of 21 years.\n",
    " \n",
    " \n",
    " \n",
    " ### Libraries used:\n",
    "      1 pandas - to read our data in cvs format and also analyze it. data maupulation is also possible through this library.\n",
    "      2 numpy - it is used for scientific computing. here I have used for transformation or storing arrays. \n",
    "      3 seaborn and matplotlib - they are used for visualization of the data (various forms of graphs)\n",
    "      4 sklearn - it is used to import logistic regression algorythm and test the data.\n",
    "      5 joblib - it is used for saving the model for later use.  \n",
    "      \n"
   ]
  },
  {
   "cell_type": "code",
   "execution_count": 3,
   "metadata": {},
   "outputs": [
    {
     "name": "stdout",
     "output_type": "stream",
     "text": [
      "Requirement already satisfied: nbopen in c:\\users\\rashi\\anaconda3\\lib\\site-packages (0.6)\n",
      "Requirement already satisfied: notebook in c:\\users\\rashi\\anaconda3\\lib\\site-packages (from nbopen) (6.0.3)\n",
      "Requirement already satisfied: nbformat in c:\\users\\rashi\\anaconda3\\lib\\site-packages (from nbopen) (5.0.4)\n",
      "Requirement already satisfied: jupyter-core>=4.6.1 in c:\\users\\rashi\\anaconda3\\lib\\site-packages (from notebook->nbopen) (4.6.1)\n",
      "Requirement already satisfied: pyzmq>=17 in c:\\users\\rashi\\anaconda3\\lib\\site-packages (from notebook->nbopen) (18.1.1)\n",
      "Requirement already satisfied: ipython-genutils in c:\\users\\rashi\\anaconda3\\lib\\site-packages (from notebook->nbopen) (0.2.0)\n",
      "Requirement already satisfied: traitlets>=4.2.1 in c:\\users\\rashi\\anaconda3\\lib\\site-packages (from notebook->nbopen) (4.3.3)\n",
      "Requirement already satisfied: ipykernel in c:\\users\\rashi\\anaconda3\\lib\\site-packages (from notebook->nbopen) (5.1.4)\n",
      "Requirement already satisfied: nbconvert in c:\\users\\rashi\\anaconda3\\lib\\site-packages (from notebook->nbopen) (5.6.1)\n",
      "Requirement already satisfied: terminado>=0.8.1 in c:\\users\\rashi\\anaconda3\\lib\\site-packages (from notebook->nbopen) (0.8.3)\n",
      "Requirement already satisfied: prometheus-client in c:\\users\\rashi\\anaconda3\\lib\\site-packages (from notebook->nbopen) (0.7.1)\n",
      "Requirement already satisfied: Send2Trash in c:\\users\\rashi\\anaconda3\\lib\\site-packages (from notebook->nbopen) (1.5.0)\n",
      "Requirement already satisfied: jupyter-client>=5.3.4 in c:\\users\\rashi\\anaconda3\\lib\\site-packages (from notebook->nbopen) (5.3.4)\n",
      "Requirement already satisfied: jinja2 in c:\\users\\rashi\\anaconda3\\lib\\site-packages (from notebook->nbopen) (2.11.1)\n",
      "Requirement already satisfied: tornado>=5.0 in c:\\users\\rashi\\anaconda3\\lib\\site-packages (from notebook->nbopen) (6.0.3)\n",
      "Requirement already satisfied: jsonschema!=2.5.0,>=2.4 in c:\\users\\rashi\\anaconda3\\lib\\site-packages (from nbformat->nbopen) (3.2.0)\n",
      "Requirement already satisfied: pywin32>=1.0; sys_platform == \"win32\" in c:\\users\\rashi\\anaconda3\\lib\\site-packages (from jupyter-core>=4.6.1->notebook->nbopen) (227)\n",
      "Requirement already satisfied: decorator in c:\\users\\rashi\\anaconda3\\lib\\site-packages (from traitlets>=4.2.1->notebook->nbopen) (4.4.1)\n",
      "Requirement already satisfied: six in c:\\users\\rashi\\anaconda3\\lib\\site-packages (from traitlets>=4.2.1->notebook->nbopen) (1.14.0)\n",
      "Requirement already satisfied: ipython>=5.0.0 in c:\\users\\rashi\\anaconda3\\lib\\site-packages (from ipykernel->notebook->nbopen) (7.12.0)\n",
      "Requirement already satisfied: entrypoints>=0.2.2 in c:\\users\\rashi\\anaconda3\\lib\\site-packages (from nbconvert->notebook->nbopen) (0.3)\n",
      "Requirement already satisfied: pandocfilters>=1.4.1 in c:\\users\\rashi\\anaconda3\\lib\\site-packages (from nbconvert->notebook->nbopen) (1.4.2)\n",
      "Requirement already satisfied: pygments in c:\\users\\rashi\\anaconda3\\lib\\site-packages (from nbconvert->notebook->nbopen) (2.5.2)\n",
      "Requirement already satisfied: defusedxml in c:\\users\\rashi\\anaconda3\\lib\\site-packages (from nbconvert->notebook->nbopen) (0.6.0)\n",
      "Requirement already satisfied: testpath in c:\\users\\rashi\\anaconda3\\lib\\site-packages (from nbconvert->notebook->nbopen) (0.4.4)\n",
      "Requirement already satisfied: bleach in c:\\users\\rashi\\anaconda3\\lib\\site-packages (from nbconvert->notebook->nbopen) (3.1.0)\n",
      "Requirement already satisfied: mistune<2,>=0.8.1 in c:\\users\\rashi\\anaconda3\\lib\\site-packages (from nbconvert->notebook->nbopen) (0.8.4)\n",
      "Requirement already satisfied: python-dateutil>=2.1 in c:\\users\\rashi\\anaconda3\\lib\\site-packages (from jupyter-client>=5.3.4->notebook->nbopen) (2.8.1)\n",
      "Requirement already satisfied: MarkupSafe>=0.23 in c:\\users\\rashi\\anaconda3\\lib\\site-packages (from jinja2->notebook->nbopen) (1.1.1)\n",
      "Requirement already satisfied: importlib-metadata; python_version < \"3.8\" in c:\\users\\rashi\\anaconda3\\lib\\site-packages (from jsonschema!=2.5.0,>=2.4->nbformat->nbopen) (1.5.0)\n",
      "Requirement already satisfied: pyrsistent>=0.14.0 in c:\\users\\rashi\\anaconda3\\lib\\site-packages (from jsonschema!=2.5.0,>=2.4->nbformat->nbopen) (0.15.7)\n",
      "Requirement already satisfied: attrs>=17.4.0 in c:\\users\\rashi\\anaconda3\\lib\\site-packages (from jsonschema!=2.5.0,>=2.4->nbformat->nbopen) (19.3.0)\n",
      "Requirement already satisfied: setuptools in c:\\users\\rashi\\anaconda3\\lib\\site-packages (from jsonschema!=2.5.0,>=2.4->nbformat->nbopen) (45.2.0.post20200210)\n",
      "Requirement already satisfied: pickleshare in c:\\users\\rashi\\anaconda3\\lib\\site-packages (from ipython>=5.0.0->ipykernel->notebook->nbopen) (0.7.5)\n",
      "Requirement already satisfied: jedi>=0.10 in c:\\users\\rashi\\anaconda3\\lib\\site-packages (from ipython>=5.0.0->ipykernel->notebook->nbopen) (0.14.1)\n",
      "Requirement already satisfied: backcall in c:\\users\\rashi\\anaconda3\\lib\\site-packages (from ipython>=5.0.0->ipykernel->notebook->nbopen) (0.1.0)\n",
      "Requirement already satisfied: colorama; sys_platform == \"win32\" in c:\\users\\rashi\\anaconda3\\lib\\site-packages (from ipython>=5.0.0->ipykernel->notebook->nbopen) (0.4.3)\n",
      "Requirement already satisfied: prompt-toolkit!=3.0.0,!=3.0.1,<3.1.0,>=2.0.0 in c:\\users\\rashi\\anaconda3\\lib\\site-packages (from ipython>=5.0.0->ipykernel->notebook->nbopen) (3.0.3)\n",
      "Requirement already satisfied: webencodings in c:\\users\\rashi\\anaconda3\\lib\\site-packages (from bleach->nbconvert->notebook->nbopen) (0.5.1)\n",
      "Requirement already satisfied: zipp>=0.5 in c:\\users\\rashi\\anaconda3\\lib\\site-packages (from importlib-metadata; python_version < \"3.8\"->jsonschema!=2.5.0,>=2.4->nbformat->nbopen) (2.2.0)\n",
      "Requirement already satisfied: parso>=0.5.0 in c:\\users\\rashi\\anaconda3\\lib\\site-packages (from jedi>=0.10->ipython>=5.0.0->ipykernel->notebook->nbopen) (0.5.2)\n",
      "Requirement already satisfied: wcwidth in c:\\users\\rashi\\anaconda3\\lib\\site-packages (from prompt-toolkit!=3.0.0,!=3.0.1,<3.1.0,>=2.0.0->ipython>=5.0.0->ipykernel->notebook->nbopen) (0.1.8)\n",
      "Note: you may need to restart the kernel to use updated packages.\n"
     ]
    }
   ],
   "source": [
    "pip install nbopen"
   ]
  },
  {
   "cell_type": "code",
   "execution_count": 23,
   "metadata": {},
   "outputs": [],
   "source": [
    "import pandas as pd\n",
    "\n",
    "import numpy as np\n",
    "\n",
    "import seaborn as sns\n",
    "\n",
    "import matplotlib.pyplot as plt\n",
    "\n",
    "from sklearn.linear_model import LogisticRegression\n",
    "\n",
    "from sklearn.externals import joblib"
   ]
  },
  {
   "cell_type": "markdown",
   "metadata": {},
   "source": [
    "## The colums considered in the data set are(information as provided by the prima india diabetes dataset) :\n",
    "\n",
    "    1. Pregnancies - Number of times pregnant\n",
    "    2. Glucose - Plasma glucose concentration a 2 hours in an oral glucose tolerance test\n",
    "    3. Blood Pressure - Diastolic blood pressure (mm Hg)\n",
    "    4. Skin Thickness - Triceps skin fold thickness (mm)\n",
    "    5. Insulin - 2-Hour serum insulin (mu U/ml)\n",
    "    6. BMI - Body mass index (weight in kg/(height in m)^2)\n",
    "    7. Diabetes - Pedigree Function - Diabetes pedigree function\n",
    "    8. Age - Age (years)\n",
    "    9. Outcome - Class variable (0 or 1) 268 of 768 are 1, the others are 0"
   ]
  },
  {
   "cell_type": "markdown",
   "metadata": {},
   "source": [
    "# Data Description :"
   ]
  },
  {
   "cell_type": "code",
   "execution_count": 2,
   "metadata": {},
   "outputs": [
    {
     "name": "stdout",
     "output_type": "stream",
     "text": [
      "   Pregnancies  Glucose  BloodPressure  SkinThickness  Insulin   BMI  \\\n",
      "0            6      148             72             35        0  33.6   \n",
      "1            1       85             66             29        0  26.6   \n",
      "2            8      183             64              0        0  23.3   \n",
      "3            1       89             66             23       94  28.1   \n",
      "4            0      137             40             35      168  43.1   \n",
      "\n",
      "   DiabetesPedigreeFunction  Age  Outcome  \n",
      "0                     0.627   50        1  \n",
      "1                     0.351   31        0  \n",
      "2                     0.672   32        1  \n",
      "3                     0.167   21        0  \n",
      "4                     2.288   33        1  \n"
     ]
    }
   ],
   "source": [
    "#the read function is used to load the .cvs file in the running notebook\n",
    "df = pd.read_csv('diabetes.csv')\n",
    "#to display the database\n",
    "print(df.head())"
   ]
  },
  {
   "cell_type": "code",
   "execution_count": 3,
   "metadata": {
    "scrolled": true
   },
   "outputs": [
    {
     "name": "stdout",
     "output_type": "stream",
     "text": [
      "<class 'pandas.core.frame.DataFrame'>\n",
      "RangeIndex: 768 entries, 0 to 767\n",
      "Data columns (total 9 columns):\n",
      " #   Column                    Non-Null Count  Dtype  \n",
      "---  ------                    --------------  -----  \n",
      " 0   Pregnancies               768 non-null    int64  \n",
      " 1   Glucose                   768 non-null    int64  \n",
      " 2   BloodPressure             768 non-null    int64  \n",
      " 3   SkinThickness             768 non-null    int64  \n",
      " 4   Insulin                   768 non-null    int64  \n",
      " 5   BMI                       768 non-null    float64\n",
      " 6   DiabetesPedigreeFunction  768 non-null    float64\n",
      " 7   Age                       768 non-null    int64  \n",
      " 8   Outcome                   768 non-null    int64  \n",
      "dtypes: float64(2), int64(7)\n",
      "memory usage: 54.1 KB\n"
     ]
    }
   ],
   "source": [
    "#the information function, as the name suggets provides us information about the dataset\n",
    "df.info()"
   ]
  },
  {
   "cell_type": "markdown",
   "metadata": {},
   "source": [
    "\n",
    "#####  From the above information we see that there are no null values present in the datase which is a good sign. this means that our data is already clean. This function provides us with a clear amount of memory used and data type of the data in the database.  Lets find out the total number of entries in the dataset.  \n",
    "\n"
   ]
  },
  {
   "cell_type": "code",
   "execution_count": 4,
   "metadata": {},
   "outputs": [
    {
     "data": {
      "text/plain": [
       "(768, 9)"
      ]
     },
     "execution_count": 4,
     "metadata": {},
     "output_type": "execute_result"
    }
   ],
   "source": [
    "#to find the dimentions for the dataset\n",
    "df.shape"
   ]
  },
  {
   "cell_type": "code",
   "execution_count": 27,
   "metadata": {},
   "outputs": [
    {
     "name": "stdout",
     "output_type": "stream",
     "text": [
      "total number of rows : 768\n",
      "number of rows missing Age: 0\n",
      "number of rows missing BMI: 11\n",
      "number of rows missing BloodPressure: 35\n",
      "number of rows missing DiabetesPedigreeFunction: 0\n",
      "number of rows missing Insulin: 374\n",
      "number of rows missing Pregnancies: 111\n",
      "number of rows missing SkinThickness: 227\n",
      "number of rows missing Glucose: 5\n"
     ]
    }
   ],
   "source": [
    "# to print the number of zero values in the dataset\n",
    "print(\"total number of rows : {0}\".format(len(df)))\n",
    "print(\"number of rows missing Age: {0}\".format(len(df.loc[df['Age'] == 0])))\n",
    "print(\"number of rows missing BMI: {0}\".format(len(df.loc[df['BMI'] == 0])))\n",
    "print(\"number of rows missing BloodPressure: {0}\".format(len(df.loc[df['BloodPressure'] == 0])))\n",
    "print(\"number of rows missing DiabetesPedigreeFunction: {0}\".format(len(df.loc[df['DiabetesPedigreeFunction'] == 0])))\n",
    "print(\"number of rows missing Insulin: {0}\".format(len(df.loc[df['Insulin'] == 0])))\n",
    "print(\"number of rows missing Pregnancies: {0}\".format(len(df.loc[df['Pregnancies'] == 0])))\n",
    "print(\"number of rows missing SkinThickness: {0}\".format(len(df.loc[df['SkinThickness'] == 0])))\n",
    "print(\"number of rows missing Glucose: {0}\".format(len(df.loc[df['Glucose'] == 0])))"
   ]
  },
  {
   "cell_type": "code",
   "execution_count": 5,
   "metadata": {},
   "outputs": [
    {
     "data": {
      "text/html": [
       "<div>\n",
       "<style scoped>\n",
       "    .dataframe tbody tr th:only-of-type {\n",
       "        vertical-align: middle;\n",
       "    }\n",
       "\n",
       "    .dataframe tbody tr th {\n",
       "        vertical-align: top;\n",
       "    }\n",
       "\n",
       "    .dataframe thead th {\n",
       "        text-align: right;\n",
       "    }\n",
       "</style>\n",
       "<table border=\"1\" class=\"dataframe\">\n",
       "  <thead>\n",
       "    <tr style=\"text-align: right;\">\n",
       "      <th></th>\n",
       "      <th>Pregnancies</th>\n",
       "      <th>Glucose</th>\n",
       "      <th>BloodPressure</th>\n",
       "      <th>SkinThickness</th>\n",
       "      <th>Insulin</th>\n",
       "      <th>BMI</th>\n",
       "      <th>DiabetesPedigreeFunction</th>\n",
       "      <th>Age</th>\n",
       "      <th>Outcome</th>\n",
       "    </tr>\n",
       "  </thead>\n",
       "  <tbody>\n",
       "    <tr>\n",
       "      <th>count</th>\n",
       "      <td>768.000000</td>\n",
       "      <td>768.000000</td>\n",
       "      <td>768.000000</td>\n",
       "      <td>768.000000</td>\n",
       "      <td>768.000000</td>\n",
       "      <td>768.000000</td>\n",
       "      <td>768.000000</td>\n",
       "      <td>768.000000</td>\n",
       "      <td>768.000000</td>\n",
       "    </tr>\n",
       "    <tr>\n",
       "      <th>mean</th>\n",
       "      <td>3.845052</td>\n",
       "      <td>120.894531</td>\n",
       "      <td>69.105469</td>\n",
       "      <td>20.536458</td>\n",
       "      <td>79.799479</td>\n",
       "      <td>31.992578</td>\n",
       "      <td>0.471876</td>\n",
       "      <td>33.240885</td>\n",
       "      <td>0.348958</td>\n",
       "    </tr>\n",
       "    <tr>\n",
       "      <th>std</th>\n",
       "      <td>3.369578</td>\n",
       "      <td>31.972618</td>\n",
       "      <td>19.355807</td>\n",
       "      <td>15.952218</td>\n",
       "      <td>115.244002</td>\n",
       "      <td>7.884160</td>\n",
       "      <td>0.331329</td>\n",
       "      <td>11.760232</td>\n",
       "      <td>0.476951</td>\n",
       "    </tr>\n",
       "    <tr>\n",
       "      <th>min</th>\n",
       "      <td>0.000000</td>\n",
       "      <td>0.000000</td>\n",
       "      <td>0.000000</td>\n",
       "      <td>0.000000</td>\n",
       "      <td>0.000000</td>\n",
       "      <td>0.000000</td>\n",
       "      <td>0.078000</td>\n",
       "      <td>21.000000</td>\n",
       "      <td>0.000000</td>\n",
       "    </tr>\n",
       "    <tr>\n",
       "      <th>25%</th>\n",
       "      <td>1.000000</td>\n",
       "      <td>99.000000</td>\n",
       "      <td>62.000000</td>\n",
       "      <td>0.000000</td>\n",
       "      <td>0.000000</td>\n",
       "      <td>27.300000</td>\n",
       "      <td>0.243750</td>\n",
       "      <td>24.000000</td>\n",
       "      <td>0.000000</td>\n",
       "    </tr>\n",
       "    <tr>\n",
       "      <th>50%</th>\n",
       "      <td>3.000000</td>\n",
       "      <td>117.000000</td>\n",
       "      <td>72.000000</td>\n",
       "      <td>23.000000</td>\n",
       "      <td>30.500000</td>\n",
       "      <td>32.000000</td>\n",
       "      <td>0.372500</td>\n",
       "      <td>29.000000</td>\n",
       "      <td>0.000000</td>\n",
       "    </tr>\n",
       "    <tr>\n",
       "      <th>75%</th>\n",
       "      <td>6.000000</td>\n",
       "      <td>140.250000</td>\n",
       "      <td>80.000000</td>\n",
       "      <td>32.000000</td>\n",
       "      <td>127.250000</td>\n",
       "      <td>36.600000</td>\n",
       "      <td>0.626250</td>\n",
       "      <td>41.000000</td>\n",
       "      <td>1.000000</td>\n",
       "    </tr>\n",
       "    <tr>\n",
       "      <th>max</th>\n",
       "      <td>17.000000</td>\n",
       "      <td>199.000000</td>\n",
       "      <td>122.000000</td>\n",
       "      <td>99.000000</td>\n",
       "      <td>846.000000</td>\n",
       "      <td>67.100000</td>\n",
       "      <td>2.420000</td>\n",
       "      <td>81.000000</td>\n",
       "      <td>1.000000</td>\n",
       "    </tr>\n",
       "  </tbody>\n",
       "</table>\n",
       "</div>"
      ],
      "text/plain": [
       "       Pregnancies     Glucose  BloodPressure  SkinThickness     Insulin  \\\n",
       "count   768.000000  768.000000     768.000000     768.000000  768.000000   \n",
       "mean      3.845052  120.894531      69.105469      20.536458   79.799479   \n",
       "std       3.369578   31.972618      19.355807      15.952218  115.244002   \n",
       "min       0.000000    0.000000       0.000000       0.000000    0.000000   \n",
       "25%       1.000000   99.000000      62.000000       0.000000    0.000000   \n",
       "50%       3.000000  117.000000      72.000000      23.000000   30.500000   \n",
       "75%       6.000000  140.250000      80.000000      32.000000  127.250000   \n",
       "max      17.000000  199.000000     122.000000      99.000000  846.000000   \n",
       "\n",
       "              BMI  DiabetesPedigreeFunction         Age     Outcome  \n",
       "count  768.000000                768.000000  768.000000  768.000000  \n",
       "mean    31.992578                  0.471876   33.240885    0.348958  \n",
       "std      7.884160                  0.331329   11.760232    0.476951  \n",
       "min      0.000000                  0.078000   21.000000    0.000000  \n",
       "25%     27.300000                  0.243750   24.000000    0.000000  \n",
       "50%     32.000000                  0.372500   29.000000    0.000000  \n",
       "75%     36.600000                  0.626250   41.000000    1.000000  \n",
       "max     67.100000                  2.420000   81.000000    1.000000  "
      ]
     },
     "execution_count": 5,
     "metadata": {},
     "output_type": "execute_result"
    }
   ],
   "source": [
    "#describe function is used to provide more detailed information about the dataset. \n",
    "df.describe()\n"
   ]
  },
  {
   "cell_type": "markdown",
   "metadata": {},
   "source": [
    "#### From the above description provided it is safe to conclude that the average pregnancies in the data set is 3-4. the average glocose is at 120 whereas the BMI rate stands at 31.99. the outcome column however shows a rather good result as it indicatesthat on an average people dont get diabetes. "
   ]
  },
  {
   "cell_type": "code",
   "execution_count": 25,
   "metadata": {},
   "outputs": [
    {
     "data": {
      "text/plain": [
       "Pregnancies                 0\n",
       "Glucose                     0\n",
       "BloodPressure               0\n",
       "SkinThickness               0\n",
       "Insulin                     0\n",
       "BMI                         0\n",
       "DiabetesPedigreeFunction    0\n",
       "Age                         0\n",
       "Outcome                     0\n",
       "dtype: int64"
      ]
     },
     "execution_count": 25,
     "metadata": {},
     "output_type": "execute_result"
    }
   ],
   "source": [
    "#isnull() function is used to find any null entries in the data set this is a part of data preparation. \n",
    "#the sum() function will give a total sum at the end.\n",
    "df.isnull().sum()\n"
   ]
  },
  {
   "cell_type": "markdown",
   "metadata": {},
   "source": [
    "# Data Exploration and Visualization :"
   ]
  },
  {
   "cell_type": "markdown",
   "metadata": {},
   "source": [
    "Here we analyse how many times each value occurss in each coloumns. the graph shown below is in the form of a histogram from the pandas library.  "
   ]
  },
  {
   "cell_type": "code",
   "execution_count": 26,
   "metadata": {},
   "outputs": [
    {
     "data": {
      "image/png": "[encoded data removed]",
      "text/plain": [
       "<Figure size 1440x1440 with 9 Axes>"
      ]
     },
     "metadata": {
      "needs_background": "light"
     },
     "output_type": "display_data"
    }
   ],
   "source": [
    "#to sketch the graph for each column individually. \n",
    "p = df.hist(figsize = (20,20))"
   ]
  },
  {
   "cell_type": "markdown",
   "metadata": {},
   "source": [
    "The visual data helps us clear our doubts and builds a clear picture in the mind. "
   ]
  },
  {
   "cell_type": "markdown",
   "metadata": {},
   "source": [
    "### Building a corelation between the entries of the columns "
   ]
  },
  {
   "cell_type": "markdown",
   "metadata": {},
   "source": [
    "building a corelation is a very interesting and crucial aspect of analysing the data. the corelation is built through corr() function with the help of the seaborn library. This corelation will help us know which factors contribute in accelerating the chances of getting diabetic."
   ]
  },
  {
   "cell_type": "code",
   "execution_count": 8,
   "metadata": {},
   "outputs": [
    {
     "name": "stdout",
     "output_type": "stream",
     "text": [
      "                          Pregnancies   Glucose  BloodPressure  SkinThickness  \\\n",
      "Pregnancies                  1.000000  0.129459       0.141282      -0.081672   \n",
      "Glucose                      0.129459  1.000000       0.152590       0.057328   \n",
      "BloodPressure                0.141282  0.152590       1.000000       0.207371   \n",
      "SkinThickness               -0.081672  0.057328       0.207371       1.000000   \n",
      "Insulin                     -0.073535  0.331357       0.088933       0.436783   \n",
      "BMI                          0.017683  0.221071       0.281805       0.392573   \n",
      "DiabetesPedigreeFunction    -0.033523  0.137337       0.041265       0.183928   \n",
      "Age                          0.544341  0.263514       0.239528      -0.113970   \n",
      "Outcome                      0.221898  0.466581       0.065068       0.074752   \n",
      "\n",
      "                           Insulin       BMI  DiabetesPedigreeFunction  \\\n",
      "Pregnancies              -0.073535  0.017683                 -0.033523   \n",
      "Glucose                   0.331357  0.221071                  0.137337   \n",
      "BloodPressure             0.088933  0.281805                  0.041265   \n",
      "SkinThickness             0.436783  0.392573                  0.183928   \n",
      "Insulin                   1.000000  0.197859                  0.185071   \n",
      "BMI                       0.197859  1.000000                  0.140647   \n",
      "DiabetesPedigreeFunction  0.185071  0.140647                  1.000000   \n",
      "Age                      -0.042163  0.036242                  0.033561   \n",
      "Outcome                   0.130548  0.292695                  0.173844   \n",
      "\n",
      "                               Age   Outcome  \n",
      "Pregnancies               0.544341  0.221898  \n",
      "Glucose                   0.263514  0.466581  \n",
      "BloodPressure             0.239528  0.065068  \n",
      "SkinThickness            -0.113970  0.074752  \n",
      "Insulin                  -0.042163  0.130548  \n",
      "BMI                       0.036242  0.292695  \n",
      "DiabetesPedigreeFunction  0.033561  0.173844  \n",
      "Age                       1.000000  0.238356  \n",
      "Outcome                   0.238356  1.000000  \n"
     ]
    }
   ],
   "source": [
    "#function to show corelation between each column entry\n",
    "corr = df.corr()\n",
    "print(corr)\n"
   ]
  },
  {
   "cell_type": "code",
   "execution_count": 9,
   "metadata": {},
   "outputs": [
    {
     "data": {
      "image/png": "[encoded data removed]",
      "text/plain": [
       "<Figure size 720x720 with 2 Axes>"
      ]
     },
     "metadata": {
      "needs_background": "light"
     },
     "output_type": "display_data"
    }
   ],
   "source": [
    "# the concept of heat map is used to build the corelation visually. this helps the observer understand better. \n",
    "#seaborn library has been used for the visualization\n",
    "top_corr_features = corr.index\n",
    "plt.figure(figsize=(10,10))\n",
    "g=sns.heatmap(df[top_corr_features].corr(),annot=True,cmap=\"RdGy\")"
   ]
  },
  {
   "cell_type": "markdown",
   "metadata": {},
   "source": [
    "From the above heat map it is clear that the Glocose, BMI, Age and preganancies are the hieghest factors which contribute in making a person diabetic whereas Blood pressure is only 0.065 percent related to a person being diabetic. "
   ]
  },
  {
   "cell_type": "code",
   "execution_count": 10,
   "metadata": {},
   "outputs": [
    {
     "data": {
      "image/png": "[encoded data removed]",
      "text/plain": [
       "<Figure size 432x288 with 1 Axes>"
      ]
     },
     "metadata": {
      "needs_background": "light"
     },
     "output_type": "display_data"
    }
   ],
   "source": [
    "#bar graph has been used to show a relation between the age and the frequency of the outcome of a patient to be diabetic.\n",
    "plt.bar(df['Outcome'], df['Age'])\n",
    "\n",
    "plt.xlabel('Outcome')\n",
    "plt.ylabel('Age')\n",
    "plt.title('Average age of non-diabetic and diabetic people in the dataset')\n",
    "plt.show()"
   ]
  },
  {
   "cell_type": "markdown",
   "metadata": {},
   "source": [
    "Above is the demonstration of the relation between the age and the diabetes outcome. This data clearly shows that the females ages between 65-70 years are more likely to be diabetic.\n"
   ]
  },
  {
   "cell_type": "markdown",
   "metadata": {},
   "source": [
    "# Dataset Preparation:\n",
    " \n",
    " ## Splitting of data into datasets\n"
   ]
  },
  {
   "cell_type": "markdown",
   "metadata": {},
   "source": [
    "for a machine learning algorithm to work properly, we split the data into 3 parts, namely — training set, development set and test set. \n",
    "\n",
    "The data set consists of record of 768 patients in total. To train our model we will be using 650 records. We will be using 100 records for testing, and the last 17 records to cross check our model."
   ]
  },
  {
   "cell_type": "code",
   "execution_count": 11,
   "metadata": {},
   "outputs": [],
   "source": [
    "#Total 768 patients record\n",
    "#Using 650 data for training\n",
    "#Using 100 data for testing\n",
    "#Using 18 data for checking\n",
    "\n",
    "dfTrain = df[:650]\n",
    "dfTest = df[650:750]\n",
    "dfCheck = df[750:]"
   ]
  },
  {
   "cell_type": "markdown",
   "metadata": {},
   "source": [
    "now separate the label and features(for both training and test dataset). feature has been classified as the inout and lable as the output (i.e, where the outcome would be 1 or 0) In addition to that, we will also convert them into arrays because the machine learning algorithm process data in NumPy array format.\n"
   ]
  },
  {
   "cell_type": "code",
   "execution_count": 12,
   "metadata": {},
   "outputs": [],
   "source": [
    "#Separating label and features and converting to numpy array to feed into our model\n",
    "trainLabel = np.asarray(dfTrain['Outcome'])\n",
    "trainData = np.asarray(dfTrain.drop('Outcome',1))\n",
    "testLabel = np.asarray(dfTest['Outcome'])\n",
    "testData = np.asarray(dfTest.drop('Outcome',1))"
   ]
  },
  {
   "cell_type": "markdown",
   "metadata": {},
   "source": [
    "# Data Normalization:\n"
   ]
  },
  {
   "cell_type": "markdown",
   "metadata": {},
   "source": [
    "This mmethod is used to reduce data redundancy and improve the data integrity. in other words, it removes the unwanted data. \n",
    "To calculate the same we subtract the mena from the value and then divite by standard deviation  "
   ]
  },
  {
   "cell_type": "code",
   "execution_count": 14,
   "metadata": {},
   "outputs": [],
   "source": [
    "# trainData, axis=0 just means to check that the new mean should be equal to 0 in the training data array\n",
    "# trainData, axis=0 justmeans to check that the new standard deviation should be equal 1 in the training data array.\n",
    "mean = np.mean(trainData, axis=0)\n",
    "std = np.std(trainData, axis=0)\n",
    " \n",
    "trainData = (trainData - mean)/std\n",
    "testData = (testData - mean)/std\n",
    " \n"
   ]
  },
  {
   "cell_type": "markdown",
   "metadata": {},
   "source": [
    "# Training and Evaluating the Machine Learning Model:"
   ]
  },
  {
   "cell_type": "markdown",
   "metadata": {},
   "source": [
    "We can now train our classification model. We’ll be using a machine simple learning model called logistic regression. Since the model is readily available in sklearn, the training process is quite easy. First, we create an instance called diabetesCheck and then use the fit() function to train the model."
   ]
  },
  {
   "cell_type": "code",
   "execution_count": 15,
   "metadata": {},
   "outputs": [
    {
     "data": {
      "text/plain": [
       "LogisticRegression(C=1.0, class_weight=None, dual=False, fit_intercept=True,\n",
       "                   intercept_scaling=1, l1_ratio=None, max_iter=100,\n",
       "                   multi_class='auto', n_jobs=None, penalty='l2',\n",
       "                   random_state=None, solver='lbfgs', tol=0.0001, verbose=0,\n",
       "                   warm_start=False)"
      ]
     },
     "execution_count": 15,
     "metadata": {},
     "output_type": "execute_result"
    }
   ],
   "source": [
    "#to call logidstic regression algorythm\n",
    "diabeteslr = LogisticRegression()\n",
    "#to train the datsa for the model to predict\n",
    "diabeteslr.fit(trainData, trainLabel)"
   ]
  },
  {
   "cell_type": "code",
   "execution_count": 16,
   "metadata": {},
   "outputs": [
    {
     "name": "stdout",
     "output_type": "stream",
     "text": [
      "accuracy =  78.0 %\n"
     ]
    }
   ],
   "source": [
    "#score() function is used to formulate the accuracy of the model. \n",
    "#two arrays testdata and lable has been taken in as parameters\n",
    "accuracy = diabeteslr.score(testData, testLabel)\n",
    "print(\"accuracy = \", accuracy * 100, \"%\")"
   ]
  },
  {
   "cell_type": "markdown",
   "metadata": {},
   "source": [
    "Now that we have read the accuracy of the model, now the model is ready. one can analyse even more things from this data such as which feature has a highter importance in then terms of the patient being diabetic."
   ]
  },
  {
   "cell_type": "code",
   "execution_count": 17,
   "metadata": {},
   "outputs": [
    {
     "name": "stdout",
     "output_type": "stream",
     "text": [
      "        Features  importance\n",
      "0    Pregnancies    0.443950\n",
      "1        Glucose    1.054851\n",
      "2  BloodPressure   -0.242761\n",
      "3  SkinThickness   -0.006363\n",
      "4        Insulin   -0.102982\n"
     ]
    },
    {
     "data": {
      "text/plain": [
       "Text(0.5, 0, 'Importance')"
      ]
     },
     "execution_count": 17,
     "metadata": {},
     "output_type": "execute_result"
    },
    {
     "data": {
      "image/png": "[encoded data removed]",
      "text/plain": [
       "<Figure size 792x432 with 1 Axes>"
      ]
     },
     "metadata": {
      "needs_background": "light"
     },
     "output_type": "display_data"
    }
   ],
   "source": [
    "#Using regression.coef lets one have a list of coefficients,\n",
    "#but not their corresponding features which has been stored in the form of a list\n",
    "coeff = list(diabeteslr.coef_[0])\n",
    "labels = list(dfTrain.drop('Outcome',1).columns)\n",
    "#adding a column features in the datafile\n",
    "features = pd.DataFrame()\n",
    "features['Features'] = labels\n",
    "#the value in the list has been transfered to the \"importance\" factor.\n",
    "features['importance'] = coeff\n",
    "print(features.head())\n",
    "#features are sorted by their values above 0 and below \n",
    "features.sort_values(by=['importance'], ascending=True, inplace=True)\n",
    "features['positive'] = features['importance'] > 0\n",
    "features.set_index('Features', inplace=True)\n",
    "features.importance.plot(kind='barh', figsize=(11, 6),color = features.positive.map({True: 'yellow', False: 'red'}))\n",
    "plt.xlabel('Importance')"
   ]
  },
  {
   "cell_type": "markdown",
   "metadata": {},
   "source": [
    "The abpove shown graph clearly mentions that Glucose is the factor that has the hieghest importance, even more that BMI in contributio towards diabetes. in other words more the Glucose level in you body more likely one is to gettimg diabetic however blood pressure and insulin are least importance that means they are related to each other inversely. and note that blood pressure has greater negative value than insulin. "
   ]
  },
  {
   "cell_type": "markdown",
   "metadata": {},
   "source": [
    "# Saving the Model :"
   ]
  },
  {
   "cell_type": "code",
   "execution_count": 18,
   "metadata": {},
   "outputs": [
    {
     "data": {
      "text/plain": [
       "['diabeteseModel.pkl']"
      ]
     },
     "execution_count": 18,
     "metadata": {},
     "output_type": "execute_result"
    }
   ],
   "source": [
    "# the dump function is used to save the model it basically means to drop the file and save it in pickle fromat. \n",
    "# One wont be able to understand the material inside the pickle file\n",
    "joblib.dump([diabeteslr, mean, std], 'diabeteseModel.pkl')"
   ]
  },
  {
   "cell_type": "markdown",
   "metadata": {},
   "source": [
    "this model will be saved in the same folder as this file and the database file. \n",
    "\n",
    "at this moment the accuracy of this model stands at 78%, which is considered not very bad\n"
   ]
  },
  {
   "cell_type": "code",
   "execution_count": 19,
   "metadata": {
    "scrolled": true
   },
   "outputs": [
    {
     "name": "stdout",
     "output_type": "stream",
     "text": [
      "accuracy =  78.0 %\n"
     ]
    }
   ],
   "source": [
    "#to check whether the model has been saved or not and to check the accuracy of the model we use the load function\n",
    "#and the csocr efunction through joblib library\n",
    "diabetesLoadedModel, mean, std = joblib.load('diabeteseModel.pkl')\n",
    "accuracyModel = diabetesLoadedModel.score(testData, testLabel)\n",
    "print(\"accuracy = \",accuracyModel * 100,\"%\")"
   ]
  },
  {
   "cell_type": "markdown",
   "metadata": {},
   "source": [
    "# Making the prediction:"
   ]
  },
  {
   "cell_type": "code",
   "execution_count": 20,
   "metadata": {
    "scrolled": true
   },
   "outputs": [
    {
     "name": "stdout",
     "output_type": "stream",
     "text": [
      "     Pregnancies  Glucose  BloodPressure  SkinThickness  Insulin   BMI  \\\n",
      "750            4      136             70              0        0  31.2   \n",
      "751            1      121             78             39       74  39.0   \n",
      "752            3      108             62             24        0  26.0   \n",
      "753            0      181             88             44      510  43.3   \n",
      "754            8      154             78             32        0  32.4   \n",
      "\n",
      "     DiabetesPedigreeFunction  Age  Outcome  \n",
      "750                     1.182   22        1  \n",
      "751                     0.261   28        0  \n",
      "752                     0.223   25        0  \n",
      "753                     0.222   26        1  \n",
      "754                     0.443   45        1  \n"
     ]
    }
   ],
   "source": [
    "#print the predicted values from the check dataset\n",
    "print(dfCheck.head())"
   ]
  },
  {
   "cell_type": "code",
   "execution_count": 22,
   "metadata": {
    "scrolled": true
   },
   "outputs": [
    {
     "name": "stdout",
     "output_type": "stream",
     "text": [
      "Probability: [[0.44077634 0.55922366]]\n",
      "prediction: [1]\n"
     ]
    }
   ],
   "source": [
    "sampleData = dfCheck[:1]\n",
    "\n",
    "# prepare sample\n",
    "sampleDataFeatures = np.asarray(sampleData.drop('Outcome',1))\n",
    "sampleDataFeatures = (sampleDataFeatures - mean)/std\n",
    "\n",
    "# predict_proba () function has been used to perform the probability function on the\n",
    "# model and saved in the variable prediction\n",
    "predictionProbability = diabetesLoadedModel.predict_proba(sampleDataFeatures)\n",
    "prediction = diabetesLoadedModel.predict(sampleDataFeatures)\n",
    "print('Probability:', predictionProbability)\n",
    "print('prediction:', prediction)"
   ]
  },
  {
   "cell_type": "markdown",
   "metadata": {},
   "source": [
    "# Summarizing:"
   ]
  },
  {
   "cell_type": "markdown",
   "metadata": {},
   "source": [
    "The analysis fro the above data tells us that :\n",
    "    1. Pregnancies, Glucose level, Age and BMI are the greatest factors in females aged more than 21 which contribute in bein diabetic. \n",
    "    2. Glucose is the factor that has the hieghest importance, even more that BMI in contributio towards diabetes. in other words more the Glucose level in you body more likely one is to gettimg diabetic however blood pressure and insulin are least importance.\n",
    "    3. the model in overall relies on BMI, even though Age and glucose appeared to be the leading factors."
   ]
  },
  {
   "cell_type": "markdown",
   "metadata": {},
   "source": [
    "# Thank You !"
   ]
  }
 ],
 "metadata": {
  "kernelspec": {
   "display_name": "Python 3",
   "language": "python",
   "name": "python3"
  },
  "language_info": {
   "codemirror_mode": {
    "name": "ipython",
    "version": 3
   },
   "file_extension": ".py",
   "mimetype": "text/x-python",
   "name": "python",
   "nbconvert_exporter": "python",
   "pygments_lexer": "ipython3",
   "version": "3.7.6"
  }
 },
 "nbformat": 4,
 "nbformat_minor": 4
}
